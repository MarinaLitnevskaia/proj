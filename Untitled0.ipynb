{
  "nbformat": 4,
  "nbformat_minor": 0,
  "metadata": {
    "colab": {
      "provenance": [],
      "authorship_tag": "ABX9TyMaeZeckR0l5kOiTV1x4Rqb"
    },
    "kernelspec": {
      "name": "python3",
      "display_name": "Python 3"
    },
    "language_info": {
      "name": "python"
    }
  },
  "cells": [
    {
      "cell_type": "code",
      "execution_count": 11,
      "metadata": {
        "colab": {
          "base_uri": "https://localhost:8080/"
        },
        "id": "wkapPmWJU0vS",
        "outputId": "a4c65607-f4aa-4ab8-a7b7-21577b5ec4b9"
      },
      "outputs": [
        {
          "output_type": "stream",
          "name": "stdout",
          "text": [
            "Waste a Moment\n",
            "New Salvatio\n",
            "Staying' Alive\n",
            "Start Me Up\n"
          ]
        }
      ],
      "source": [
        "my_favorite_songs = 'Waste a Moment, Staying\\' Alive, A Sorta Fairytale, Start Me Up, New Salvation'\n",
        "'Waste a Moment, Staying\\' Alive, A Sorta Fairytale, Start Me Up, New Salvation'[0:14]\n",
        "print(my_favorite_songs[0:14])\n",
        "print(my_favorite_songs[-13:-1])\n",
        "print(my_favorite_songs[16:30])\n",
        "print(my_favorite_songs[-26:-15])"
      ]
    }
  ]
}